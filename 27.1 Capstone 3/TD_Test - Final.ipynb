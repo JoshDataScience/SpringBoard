{
 "cells": [
  {
   "cell_type": "code",
   "execution_count": 2,
   "metadata": {},
   "outputs": [
    {
     "data": {
      "text/plain": [
       "0.15384615384615385"
      ]
     },
     "execution_count": 2,
     "metadata": {},
     "output_type": "execute_result"
    }
   ],
   "source": [
    "def divergenceCalc(meanGood,meanBad,varGood,varBad):\n",
    "    return 2*(meanGood-meanBad)**2/(varGood**2+varBad**2)\n",
    "\n",
    "divergenceCalc(5,4,2,3)\n"
   ]
  },
  {
   "cell_type": "code",
   "execution_count": 1,
   "metadata": {},
   "outputs": [],
   "source": [
    "#While (exit = False)\n",
    "def badRateCalc(score_band,total_1,badNum_1,total_2,badNum_2):\n",
    "    badPercentage_1 = \"{:.3%}\".format(badNum_1/total_1)\n",
    "    #print(badPercentage)\n",
    "    badPercentage_2 = \"{:.3%}\".format(badNum_2/total_2)\n",
    "    new_row = {'Score Band':score_band,'Score 1 Total #':total_1,'Score 1 Bads #':badNum_1,'Score 1 Bad Rate':badPercentage_1,\n",
    "               'Score 2 Total #':total_2,'Score 2 Bads #':badNum_2,'Score 2 Bad Rate':badPercentage_2}\n",
    "    return  new_row\n"
   ]
  },
  {
   "cell_type": "code",
   "execution_count": 2,
   "metadata": {},
   "outputs": [
    {
     "name": "stdout",
     "output_type": "stream",
     "text": [
      "Original DataFrame\n",
      "------------------\n",
      "   Score Band  Score 1 Total #  Score 1 Bads #  Score 1 Bad Rate  \\\n",
      "0           1               68              84                78   \n",
      "1           2               74              56                88   \n",
      "2           3               77              73                82   \n",
      "3           4               78              69                87   \n",
      "\n",
      "   Score 2 Total #  Score 2 Bads #  Score 2 Bad Rate  \n",
      "0               68              84                78  \n",
      "1               74              56                88  \n",
      "2               77              73                82  \n",
      "3               78              69                87  \n",
      "\n",
      "\n",
      "New row added to DataFrame\n",
      "--------------------------\n",
      "   Score Band  Score 1 Total #  Score 1 Bads # Score 1 Bad Rate  \\\n",
      "0           1               68              84               78   \n",
      "1           2               74              56               88   \n",
      "2           3               77              73               82   \n",
      "3           4               78              69               87   \n",
      "4           5               10               5          50.000%   \n",
      "\n",
      "   Score 2 Total #  Score 2 Bads # Score 2 Bad Rate  \n",
      "0               68              84               78  \n",
      "1               74              56               88  \n",
      "2               77              73               82  \n",
      "3               78              69               87  \n",
      "4               50              25          50.000%  \n"
     ]
    }
   ],
   "source": [
    "import pandas as pd\n",
    "\n",
    "data = {'Score Band': [1, 2, 3, 4],\n",
    "\t'Score 1 Total #': [68, 74, 77, 78],\n",
    "\t'Score 1 Bads #': [84, 56, 73, 69],\n",
    "\t'Score 1 Bad Rate': [78, 88, 82, 87],\n",
    "\t'Score 2 Total #': [68, 74, 77, 78],\n",
    "\t'Score 2 Bads #': [84, 56, 73, 69],\n",
    "\t'Score 2 Bad Rate': [78, 88, 82, 87]}\n",
    "\n",
    "\n",
    "#create dataframe\n",
    "df_data = pd.DataFrame(data)\n",
    "print('Original DataFrame\\n------------------')\n",
    "\n",
    "print(df_data)\n",
    "\n",
    "new_row = badRateCalc(5,10,5,50,25)\n",
    "#append row to the dataframe\n",
    "df_data = df_data.append(new_row, ignore_index=True)\n",
    "\n",
    "print('\\n\\nNew row added to DataFrame\\n--------------------------')\n",
    "print(df_data)"
   ]
  },
  {
   "cell_type": "code",
   "execution_count": null,
   "metadata": {},
   "outputs": [],
   "source": []
  }
 ],
 "metadata": {
  "kernelspec": {
   "display_name": "Python 3",
   "language": "python",
   "name": "python3"
  },
  "language_info": {
   "codemirror_mode": {
    "name": "ipython",
    "version": 3
   },
   "file_extension": ".py",
   "mimetype": "text/x-python",
   "name": "python",
   "nbconvert_exporter": "python",
   "pygments_lexer": "ipython3",
   "version": "3.8.3"
  }
 },
 "nbformat": 4,
 "nbformat_minor": 4
}
