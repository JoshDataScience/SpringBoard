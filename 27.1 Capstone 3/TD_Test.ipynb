{
 "cells": [
  {
   "cell_type": "code",
   "execution_count": 1,
   "metadata": {},
   "outputs": [
    {
     "data": {
      "text/plain": [
       "0.15384615384615385"
      ]
     },
     "execution_count": 1,
     "metadata": {},
     "output_type": "execute_result"
    }
   ],
   "source": [
    "def divergenceCalc(meanGood,meanBad,varGood,varBad):\n",
    "    return 2*(meanGood-meanBad)**2/(varGood**2+varBad**2)\n",
    "\n",
    "divergenceCalc(5,4,2,3)\n"
   ]
  },
  {
   "cell_type": "code",
   "execution_count": 1,
   "metadata": {},
   "outputs": [
    {
     "name": "stdout",
     "output_type": "stream",
     "text": [
      "Collecting tabulate\n",
      "  Downloading tabulate-0.8.9-py3-none-any.whl (25 kB)\n",
      "Installing collected packages: tabulate\n",
      "Successfully installed tabulate-0.8.9\n",
      "Note: you may need to restart the kernel to use updated packages.\n"
     ]
    }
   ],
   "source": [
    "pip install tabulate"
   ]
  },
  {
   "cell_type": "code",
   "execution_count": 2,
   "metadata": {},
   "outputs": [],
   "source": [
    "from tabulate import tabulate"
   ]
  },
  {
   "cell_type": "code",
   "execution_count": 3,
   "metadata": {},
   "outputs": [],
   "source": [
    "table = [['Score Band','Score 1 Total #', 'Score 1 Bads #','Score 1 Bad Rate',\n",
    "          'Score 2 Total #','Score 2 Bads','Score 2 Bad Rate',], [1, 2, 3, 4, 5, 6, 7]]"
   ]
  },
  {
   "cell_type": "code",
   "execution_count": 4,
   "metadata": {},
   "outputs": [
    {
     "name": "stdout",
     "output_type": "stream",
     "text": [
      "----------  ---------------  --------------  ----------------  ---------------  ------------  ----------------\n",
      "Score Band  Score 1 Total #  Score 1 Bads #  Score 1 Bad Rate  Score 2 Total #  Score 2 Bads  Score 2 Bad Rate\n",
      "1           2                3               4                 5                6             7\n",
      "----------  ---------------  --------------  ----------------  ---------------  ------------  ----------------\n"
     ]
    }
   ],
   "source": [
    "print(tabulate(table))"
   ]
  },
  {
   "cell_type": "code",
   "execution_count": 7,
   "metadata": {},
   "outputs": [
    {
     "data": {
      "text/plain": [
       "'50.000%'"
      ]
     },
     "execution_count": 7,
     "metadata": {},
     "output_type": "execute_result"
    }
   ],
   "source": [
    "#While (exit = False)\n",
    "def badRateCalc(total,badNum):\n",
    "    badPercentage = \"{:.3%}\".format(badNum/total)\n",
    "    #print(badPercentage)\n",
    "    list = [1,2,3,4,5,6,7]\n",
    "    #each number represents the individual value to fill in\n",
    "    return badPercentage\n",
    "table.append[list]\n",
    "\n",
    "#badRateCalc(10,5)"
   ]
  },
  {
   "cell_type": "code",
   "execution_count": 10,
   "metadata": {},
   "outputs": [
    {
     "name": "stdout",
     "output_type": "stream",
     "text": [
      "╒════╤══════════════╤═══════════════════╤══════════════════╤════════════════════╤═══════════════════╤════════════════╤════════════════════╕\n",
      "│    │   Score Band │   Score 1 Total # │   Score 1 Bads # │   Score 1 Bad Rate │   Score 2 Total # │   Score 2 Bads │   Score 2 Bad Rate │\n",
      "╞════╪══════════════╪═══════════════════╪══════════════════╪════════════════════╪═══════════════════╪════════════════╪════════════════════╡\n",
      "│  0 │            1 │                 2 │                3 │                  4 │                 5 │              6 │                  7 │\n",
      "╘════╧══════════════╧═══════════════════╧══════════════════╧════════════════════╧═══════════════════╧════════════════╧════════════════════╛\n"
     ]
    }
   ],
   "source": [
    "print(tabulate(table, headers='firstrow', tablefmt='fancy_grid', showindex=True))"
   ]
  },
  {
   "cell_type": "code",
   "execution_count": 11,
   "metadata": {},
   "outputs": [
    {
     "name": "stdout",
     "output_type": "stream",
     "text": [
      "Collecting prettytable\n",
      "  Downloading prettytable-3.1.1-py3-none-any.whl (26 kB)\n",
      "Requirement already satisfied: wcwidth in c:\\users\\joshs\\anaconda3\\lib\\site-packages (from prettytable) (0.2.5)\n",
      "Installing collected packages: prettytable\n",
      "Successfully installed prettytable-3.1.1\n",
      "Note: you may need to restart the kernel to use updated packages.\n"
     ]
    }
   ],
   "source": [
    "pip install prettytable \n"
   ]
  },
  {
   "cell_type": "code",
   "execution_count": 13,
   "metadata": {},
   "outputs": [
    {
     "name": "stdout",
     "output_type": "stream",
     "text": [
      "+------------+-----------------+----------------+------------------+-----------------+--------------+------------------+\n",
      "| Score Band | Score 1 Total # | Score 1 Bads # | Score 1 Bad Rate | Score 2 Total # | Score 2 Bads | Score 2 Bad Rate |\n",
      "+------------+-----------------+----------------+------------------+-----------------+--------------+------------------+\n",
      "|     1      |        2        |       3        |        4         |        5        |      6       |        7         |\n",
      "+------------+-----------------+----------------+------------------+-----------------+--------------+------------------+\n"
     ]
    }
   ],
   "source": [
    "from prettytable import PrettyTable \n",
    "  \n",
    "# Specify the Column Names while initializing the Table \n",
    "myTable = PrettyTable(['Score Band','Score 1 Total #', 'Score 1 Bads #','Score 1 Bad Rate',\n",
    "          'Score 2 Total #','Score 2 Bads','Score 2 Bad Rate']) \n",
    "  \n",
    "# Add rows \n",
    "myTable.add_row([1, 2, 3, 4, 5, 6, 7]) \n",
    "\n",
    "print(myTable)"
   ]
  },
  {
   "cell_type": "code",
   "execution_count": null,
   "metadata": {},
   "outputs": [],
   "source": []
  }
 ],
 "metadata": {
  "kernelspec": {
   "display_name": "Python 3",
   "language": "python",
   "name": "python3"
  },
  "language_info": {
   "codemirror_mode": {
    "name": "ipython",
    "version": 3
   },
   "file_extension": ".py",
   "mimetype": "text/x-python",
   "name": "python",
   "nbconvert_exporter": "python",
   "pygments_lexer": "ipython3",
   "version": "3.8.3"
  }
 },
 "nbformat": 4,
 "nbformat_minor": 4
}
